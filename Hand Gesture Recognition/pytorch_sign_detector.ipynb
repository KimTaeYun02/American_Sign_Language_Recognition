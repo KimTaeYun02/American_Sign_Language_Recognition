{
 "cells": [
  {
   "cell_type": "markdown",
   "id": "1b75fa3a",
   "metadata": {},
   "source": [
    "# Pytorch를 활용한 hand sign 검출"
   ]
  },
  {
   "cell_type": "code",
   "execution_count": 4,
   "id": "bfdbeee3",
   "metadata": {},
   "outputs": [
    {
     "name": "stdout",
     "output_type": "stream",
     "text": [
      "Using matplotlib backend: Qt5Agg\n"
     ]
    }
   ],
   "source": [
    "import pandas as pd\n",
    "import numpy as np\n",
    "%matplotlib\n",
    "import matplotlib.pyplot as plt\n",
    "import seaborn as sns\n",
    "from PIL import Image\n",
    "import random\n",
    "import os\n",
    "import time\n",
    "import copy\n",
    "import glob\n",
    "from tqdm import tqdm as tqdmd\n",
    "\n",
    "import torch\n",
    "import torch.nn as nn\n",
    "from torch.nn import functional as F\n",
    "from torch.utils.data import Dataset, DataLoader\n",
    "\n",
    "import torchvision\n",
    "import torchvision.transforms as transforms\n",
    "from torchvision.io import read_image\n",
    "import torchvision.models as models\n",
    "from torchsummary import summary\n",
    "\n",
    "\n",
    "device = torch.device('cuda' if torch.cuda.is_available() else 'cpu')"
   ]
  },
  {
   "cell_type": "markdown",
   "id": "db042147",
   "metadata": {},
   "source": [
    "## Dataset Review"
   ]
  },
  {
   "cell_type": "markdown",
   "id": "abeeddd5",
   "metadata": {},
   "source": [
    "![ASL](./image/01.png)\n",
    "* ASL(American Sign Language) alphabet은 총 26개가 있지만 dataset에서는 25개 밖에 없다. \n",
    "* 그 이유는 Z가 검지로 Z를 그리는 것이기 때문에 사진으로는 표현이 불가능."
   ]
  },
  {
   "cell_type": "markdown",
   "id": "ef3c5e5f",
   "metadata": {},
   "source": [
    "## Image dir, path"
   ]
  },
  {
   "cell_type": "code",
   "execution_count": 8,
   "id": "30b50388",
   "metadata": {},
   "outputs": [],
   "source": [
    "TRAIN_DIR = \"Train/\"\n",
    "TEST_DIR = \"Test/\"\n",
    "TRAIN_DIR_LIST = os.listdir(TRAIN_DIR)\n",
    "TEST_DIR_LIST = os.listdir(TEST_DIR)"
   ]
  },
  {
   "cell_type": "code",
   "execution_count": 10,
   "id": "eb6a28e4",
   "metadata": {
    "collapsed": true
   },
   "outputs": [
    {
     "data": {
      "text/plain": [
       "['10014_A.jpg',\n",
       " '10021_A.jpg',\n",
       " '10023_A.jpg',\n",
       " '10050_
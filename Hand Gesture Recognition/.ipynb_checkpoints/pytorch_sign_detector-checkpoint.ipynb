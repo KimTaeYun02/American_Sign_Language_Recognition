{
 "cells": [
  {
   "cell_type": "markdown",
   "id": "1b75fa3a",
   "metadata": {},
   "source": [
    "# Pytorch를 활용한 Sign Language 검출"
   ]
  },
  {
   "cell_type": "code",
   "execution_count": 1,
   "id": "bfdbeee3",
   "metadata": {},
   "outputs": [
    {
     "name": "stdout",
     "output_type": "stream",
     "text": [
      "Using matplotlib backend: Qt5Agg\n"
     ]
    }
   ],
   "source": [
    "import pandas as pd\n",
    "import numpy as np\n",
    "%matplotlib\n",
    "import matplotlib.pyplot as plt\n",
    "import seaborn as sns\n",
    "from PIL import Image\n",
    "import random\n",
    "import os\n",
    "import time\n",
    "import copy\n",
    "import glob\n",
    "from tqdm import tqdm as tqdmd\n",
    "\n",
    "import torch\n",
    "import torch.nn as nn\n",
    "from torch.nn import functional as F\n",
    "from torch.utils.data import Dataset, DataLoader\n",
    "import torch.optim as optim\n",
    "\n",
    "import torchvision\n",
    "import torchvision.transforms as transforms\n",
    "from torchvision import transforms\n",
    "from torchvision.io import read_image\n",
    "import torchvision.models as models\n",
    "from torchsummary import summary\n",
    "\n",
    "\n",
    "device = torch.device('cuda' if torch.cuda.is_available() else 'cpu')"
   ]
  },
  {
   "cell_type": "markdown",
   "id": "db042147",
   "metadata": {},
   "source": [
    "## Dataset Preview"
   ]
  },
  {
   "cell_type": "markdown",
   "id": "abeeddd5",
   "metadata": {},
   "source": [
    "![ASL](./image/01.png)\n",
    "* ASL(American Sign Language) alphabet은 총 26개가 있지만 dataset에서는 25개 밖에 없다. \n",
    "* 그 이유는 Z가 검지로 Z를 그리는 것이기 때문에 사진으로는 표현이 불가능."
   ]
  },
  {
   "cell_type": "markdown",
   "id": "ec93868c",
   "metadata": {},
   "source": [
    "## Image dir, path"
   ]
  },
  {
   "cell_type": "code",
   "execution_count": 17,
   "id": "30b50388",
   "metadata": {},
   "outputs": [],
   "source": [
    "TRAIN_DIR = \"Train/\"\n",
    "TEST_DIR = \"Test/\"\n",
    "TRAIN_DIR_LIST = os.listdir(TRAIN_DIR)\n",
    "TEST_DIR_LIST = os.listdir(TEST_DIR)"
   ]
  },
  {
   "cell_type": "code",
   "execution_count": 71,
   "id": "6e6ab475",
   "metadata": {
    "scrolled": true
   },
   "outputs": [],
   "source": [
    "#Trian Dataset\n",
    "df = pd.DataFrame(columns = ['label', 'dir'])\n",
    "for i in TRAIN_DIR_LIST:\n",
    "    for j in os.listdir(TRAIN_DIR + i +\"/\"):\n",
    "        data = {'label' : i, 'dir' : TRAIN_DIR + i + \"/\" + j }\n",
    "        df = df.append(data, ignore_index=True)\n",
    "df.to_csv(\"Train/train.csv\")"
   ]
  },
  {
   "cell_type": "code",
   "execution_count": 72,
   "id": "891db055",
   "metadata": {},
   "outputs": [],
   "source": [
    "df = pd.DataFrame(columns = ['label', 'dir'])\n",
    "for i in TEST_DIR_LIST:\n",
    "    for j in os.listdir(TEST_DIR + i +\"/\"):\n",
    "        data = {'label' : i, 'dir' : TEST_DIR + i + \"/\" + j }\n",
    "        df = df.append(data, ignore_index=True)\n",
    "df.to_csv(\"Test/test.csv\")"
   ]
  },
  {
   "cell_type": "code",
   "execution_count": 73,
   "id": "a63688bc",
   "metadata": {
    "scrolled": true
   },
   "outputs": [
    {
     "name": "stdout",
     "output_type": "stream",
     "text": [
      "<class 'pandas.core.frame.DataFrame'>\n",
      "RangeIndex: 7172 entries, 0 to 7171\n",
      "Data columns (total 2 columns):\n",
      " #   Column  Non-Null Count  Dtype \n",
      "---  ------  --------------  ----- \n",
      " 0   label   7172 non-null   object\n",
      " 1   dir     7172 non-null   object\n",
      "dtypes: object(2)\n",
      "memory usage: 112.2+ KB\n"
     ]
    }
   ],
   "source": [
    "df.info()"
   ]
  },
  {
   "cell_type": "code",
   "execution_count": 109,
   "id": "b96a7df9",
   "metadata": {},
   "outputs": [],
   "source": [
    "train_dataset = pd.read_csv(\"Train/train.csv\", index_col = 0)\n",
    "test_dataset = pd.read_csv(\"Test/test.csv\", index_col = 0)"
   ]
  },
  {
   "cell_type": "code",
   "execution_count": 110,
   "id": "02dd3d81",
   "metadata": {
    "scrolled": true
   },
   "outputs": [
    {
     "data": {
      "text/html": [
       "<div>\n",
       "<style scoped>\n",
       "    .dataframe tbody tr th:only-of-type {\n",
       "        vertical-align: middle;\n",
       "    }\n",
       "\n",
       "    .dataframe tbody tr th {\n",
       "        vertical-align: top;\n",
       "    }\n",
       "\n",
       "    .dataframe thead th {\n",
       "        text-align: right;\n",
       "    }\n",
       "</style>\n",
       "<table border=\"1\" class=\"dataframe\">\n",
       "  <thead>\n",
       "    <tr style=\"text-align: right;\">\n",
       "      <th></th>\n",
       "      <th>label</th>\n",
       "      <th>dir</th>\n",
       "    </tr>\n",
       "  </thead>\n",
       "  <tbody>\n",
       "    <tr>\n",
       "      <th>0</th>\n",
       "      <td>A</td>\n",
       "      <td>Train/A/10014_A.jpg</td>\n",
       "    </tr>\n",
       "    <tr>\n",
       "      <th>1</th>\n",
       "      <td>A</td>\n",
       "      <td>Train/A/10021_A.jpg</td>\n",
       "    </tr>\n",
       "    <tr>\n",
       "      <th>2</th>\n",
       "      <td>A</td>\n",
       "      <td>Train/A/10023_A.jpg</td>\n",
       "    </tr>\n",
       "    <tr>\n",
       "      <th>3</th>\n",
       "      <td>A</td>\n",
       "      <td>Train/A/10050_A.jpg</td>\n",
       "    </tr>\n",
       "    <tr>\n",
       "      <th>4</th>\n",
       "      <td>A</td>\n",
       "      <td>Train/A/10056_A.jpg</td>\n",
       "    </tr>\n",
       "  </tbody>\n",
       "</table>\n",
       "</div>"
      ],
      "text/plain": [
       "  label                  dir\n",
       "0     A  Train/A/10014_A.jpg\n",
       "1     A  Train/A/10021_A.jpg\n",
       "2     A  Train/A/10023_A.jpg\n",
       "3     A  Train/A/10050_A.jpg\n",
       "4     A  Train/A/10056_A.jpg"
      ]
     },
     "execution_count": 110,
     "metadata": {},
     "output_type": "execute_result"
    }
   ],
   "source": [
    "train_dataset.head(5)"
   ]
  },
  {
   "cell_type": "code",
   "execution_count": 111,
   "id": "4d8d61b7",
   "metadata": {},
   "outputs": [
    {
     "data": {
      "text/plain": [
       "R    1294\n",
       "Q    1279\n",
       "L    1241\n",
       "W    1225\n",
       "F    1204\n",
       "S    1199\n",
       "D    1196\n",
       "O    1196\n",
       "T    1186\n",
       "X    1164\n",
       "I    1162\n",
       "U    1161\n",
       "N    1151\n",
       "C    1144\n",
       "A    1126\n",
       "Y    1118\n",
       "K    1114\n",
       "G    1090\n",
       "P    1088\n",
       "V    1082\n",
       "M    1055\n",
       "H    1013\n",
       "B    1010\n",
       "E     957\n",
       "Name: label, dtype: int64"
      ]
     },
     "execution_count": 111,
     "metadata": {},
     "output_type": "execute_result"
    }
   ],
   "source": [
    "train_dataset.label.value_counts()"
   ]
  },
  {
   "cell_type": "markdown",
   "id": "800b5bd9",
   "metadata": {},
   "source": [
    "## Data Check"
   ]
  },
  {
   "cell_type": "code",
   "execution_count": 119,
   "id": "fb857fdf",
   "metadata": {},
   "outputs": [
    {
     "data": {
      "text/plain": [
       "0        A\n",
       "1        A\n",
       "2        A\n",
       "3        A\n",
       "4        A\n",
       "        ..\n",
       "27450    Y\n",
       "27451    Y\n",
       "27452    Y\n",
       "27453    Y\n",
       "27454    Y\n",
       "Name: label, Length: 27455, dtype: object"
      ]
     },
     "execution_count": 119,
     "metadata": {},
     "output_type": "execute_result"
    }
   ],
   "source": [
    "train_dataset.iloc[:, 0]"
   ]
  },
  {
   "cell_type": "code",
   "execution_count": 77,
   "id": "f637f995",
   "metadata": {},
   "outputs": [],
   "source": [
    "image = Image.open(train_dataset.loc[0][1])"
   ]
  },
  {
   "cell_type": "code",
   "execution_count": 85,
   "id": "f694bf5e",
   "metadata": {},
   "outputs": [
    {
     "data": {
      "text/plain": [
       "(28, 28)"
      ]
     },
     "execution_count": 85,
     "metadata": {},
     "output_type": "execute_result"
    }
   ],
   "source": [
    "image.size"
   ]
  },
  {
   "cell_type": "code",
   "execution_count": 89,
   "id": "60c5c757",
   "metadata": {},
   "outputs": [
    {
     "data": {
      "image/png": "[encoded data removed]",
      "text/plain": [
       "<PIL.JpegImagePlugin.JpegImageFile image mode=L size=28x28 at 0x1C3B4BA3430>"
      ]
     },
     "execution_count": 89,
     "metadata": {},
     "output_type": "execute_result"
    }
   ],
   "source": [
    "image"
   ]
  },
  {
   "cell_type": "markdown",
   "id": "25ea6ada",
   "metadata": {},
   "source": [
    "## Mapping\n",
    "* A ~ Y -> 0 ~ 24"
   ]
  },
  {
   "cell_type": "code",
   "execution_count": 120,
   "id": "c1f430d0",
   "metadata": {
    "scrolled": true
   },
   "outputs": [],
   "source": [
    "mapping = {}\n",
    "for i in range(25):\n",
    "    mapping[chr(65+i)] = i"
   ]
  },
  {
   "cell_type": "code",
   "execution_count": 121,
   "id": "fcfbe308",
   "metadata": {},
   "outputs": [],
   "source": [
    "train_dataset = train_dataset.replace(mapping)\n",
    "test_dataset = test_dataset.replace(mapping)"
   ]
  },
  {
   "cell_type": "code",
   "execution_count": 122,
   "id": "eb9b9d6e",
   "metadata": {},
   "outputs": [
    {
     "data": {
      "text/plain": [
       "17    1294\n",
       "16    1279\n",
       "11    1241\n",
       "22    1225\n",
       "5     1204\n",
       "18    1199\n",
       "14    1196\n",
       "3     1196\n",
       "19    1186\n",
       "23    1164\n",
       "8     1162\n",
       "20    1161\n",
       "13    1151\n",
       "2     1144\n",
       "0     1126\n",
       "24    1118\n",
       "10    1114\n",
       "6     1090\n",
       "15    1088\n",
       "21    1082\n",
       "12    1055\n",
       "7     1013\n",
       "1     1010\n",
       "4      957\n",
       "Name: label, dtype: int64"
      ]
     },
     "execution_count": 122,
     "metadata": {},
     "output_type": "execute_result"
    }
   ],
   "source": [
    "train_dataset.label.value_counts()"
   ]
  },
  {
   "cell_type": "markdown",
   "id": "b570dfaa",
   "metadata": {},
   "source": [
    "## transformer\n",
    "* RandomHorizontalFlip(p)\n",
    "\n",
    "\n",
    "Horizontally flip the given image randomly with a given probability.\n",
    "* RandomRotation(degrees)\n",
    "\n",
    "\n",
    "Rotate the image by angle.\n",
    "* RandomVerticalFlip(p)\n",
    "\n",
    "\n",
    "Vertically flip the given image randomly with a given probability.\n",
    "\n"
   ]
  },
  {
   "cell_type": "code",
   "execution_count": 147,
   "id": "6c1b1474",
   "metadata": {},
   "outputs": [],
   "source": [
    "DIM = (28, 28)\n",
    "NUM_CLASSES = 25\n",
    "DEVICE = torch.device('cuda' if torch.cuda.is_available() else 'cpu')\n",
    "\n",
    "#color img\n",
    "#MEAN = [0.485, 0.456, 0.406]\n",
    "#STD = [0.229, 0.224, 0.225]\n",
    "\n",
    "#gray img\n",
    "MEAN = [0.5]\n",
    "STD = [0.5]"
   ]
  },
  {
   "cell_type": "code",
   "execution_count": 148,
   "id": "6a3d9462",
   "metadata": {},
   "outputs": [],
   "source": [
    "def transform_data(value = 'val'):\n",
    "    if value == 'train':\n",
    "            transform = transforms.Compose([\n",
    "            transforms.ToPILImage(),\n",
    "            transforms.Resize(DIM),\n",
    "            transforms.RandomHorizontalFlip(p = 0.5),\n",
    "            transforms.RandomRotation(90),\n",
    "            transforms.RandomVerticalFlip(p = 0.5),\n",
    "            transforms.ToTensor(),\n",
    "            transforms.Normalize(MEAN, STD)\n",
    "        ])\n",
    "            return transform\n",
    "    \n",
    "    elif value == 'val':\n",
    "            transform = torchvision.transforms.Compose([\n",
    "            torchvision.transforms.ToPILImage(),\n",
    "            torchvision.transforms.Resize(DIM),\n",
    "            torchvision.transforms.ToTensor(),\n",
    "            torchvision.transforms.Normalize(MEAN, STD)\n",
    "        ])\n",
    "            return transform"
   ]
  },
  {
   "cell_type": "markdown",
   "id": "5a52cb98",
   "metadata": {},
   "source": [
    "## DataLoader"
   ]
  },
  {
   "cell_type": "code",
   "execution_count": 149,
   "id": "d03c3d16",
   "metadata": {},
   "outputs": [],
   "source": [
    "class ASLDataset(Dataset):\n",
    "    \n",
    "    def __init__(self, dataset, transform=None):\n",
    "        self.labels = dataset.iloc[:, 0]\n",
    "        self.file_dir = dataset.iloc[:, 1]\n",
    "        self.transform = transform\n",
    "        \n",
    "    \n",
    "        \n",
    "    def __len__(self):\n",
    "        return len(self.labels)\n",
    "    \n",
    "    def __getitem__(self, idx):\n",
    "        img = read_image(os.path.join(self.file_dir[idx]))\n",
    "        \n",
    "        if self.transform:\n",
    "            img = self.transform(img)\n",
    "\n",
    "        label = torch.tensor(self.labels[idx], dtype = torch.long)\n",
    "        # image, label을 return\n",
    "        return img, label"
   ]
  },
  {
   "cell_type": "markdown",
   "id": "01fb2024",
   "metadata": {},
   "source": [
    "## Check DataLoader"
   ]
  },
  {
   "cell_type": "code",
   "execution_count": 150,
   "id": "d458b345",
   "metadata": {
    "scrolled": false
   },
   "outputs": [
    {
     "name": "stdout",
     "output_type": "stream",
     "text": [
      "tensor([[[[-1.0000, -1.0000, -1.0000,  ..., -1.0000, -1.0000, -1.0000],\n",
      "          [-1.0000, -1.0000, -1.0000,  ..., -1.0000, -1.0000, -1.0000],\n",
      "          [-1.0000, -1.0000, -1.0000,  ..., -1.0000, -1.0000, -1.0000],\n",
      "          ...,\n",
      "          [-1.0000, -1.0000, -1.0000,  ..., -1.0000, -1.0000, -1.0000],\n",
      "          [-1.0000, -1.0000, -1.0000,  ..., -1.0000, -1.0000, -1.0000],\n",
      "          [-1.0000, -1.0000, -1.0000,  ..., -1.0000, -1.0000, -1.0000]]],\n",
      "\n",
      "\n",
      "        [[[-1.0000, -1.0000, -1.0000,  ..., -1.0000, -1.0000, -1.0000],\n",
      "          [-1.0000, -1.0000, -1.0000,  ..., -1.0000, -1.0000, -1.0000],\n",
      "          [-1.0000, -1.0000,  0.3882,  ...,  0.2784, -1.0000, -1.0000],\n",
      "          ...,\n",
      "          [-1.0000, -1.0000,  0.3333,  ...,  0.4902, -1.0000, -1.0000],\n",
      "          [-1.0000, -1.0000, -1.0000,  ..., -1.0000, -1.0000, -1.0000],\n",
      "          [-1.0000, -1.0000, -1.0000,  ..., -1.0000, -1.0000, -1.0000]]],\n",
      "\n",
      "\n",
      "        [[[-1.0000,  0.7255,  0.7098,  ...,  0.6157, -1.0000, -1.0000],\n",
      "          [-1.0000,  0.6941,  0.7098,  ...,  0.6157,  0.6000,  0.5922],\n",
      "          [ 0.6392,  0.6706,  0.7098,  ...,  0.6078,  0.6000,  0.5922],\n",
      "          ...,\n",
      "          [ 0.6000,  0.6000,  0.6078,  ...,  0.4667,  0.4980,  0.5294],\n",
      "          [ 0.5922,  0.5922,  0.6000,  ...,  0.4745,  0.4588, -1.0000],\n",
      "          [-1.0000, -1.0000,  0.5922,  ...,  0.4980,  0.4588, -1.0000]]],\n",
      "\n",
      "\n",
      "        [[[-1.0000, -1.0000, -1.0000,  ...,  0.1137, -1.0000, -1.0000],\n",
      "          [-1.0000, -1.0000, -1.0000,  ...,  0.1216, -1.0000, -1.0000],\n",
      "          [-0.0667, -0.0510, -0.0275,  ...,  0.1373, -1.0000, -1.0000],\n",
      "          ...,\n",
      "          [-1.0000, -1.0000,  0.0980,  ...,  0.3176,  0.3412,  0.3412],\n",
      "          [-1.0000, -1.0000,  0.0824,  ..., -1.0000, -1.0000, -1.0000],\n",
      "          [-1.0000, -1.0000,  0.0745,  ..., -1.0000, -1.0000, -1.0000]]]])\n",
      "tensor([15, 12,  0, 14])\n"
     ]
    }
   ],
   "source": [
    "dataset = ASLDataset(dataset = train_dataset, transform = transform_data(\"train\"))\n",
    "dataLoader = torch.utils.data.DataLoader(dataset, batch_size=4, shuffle=True)\n",
    "\n",
    "dataiter = iter(dataLoader)\n",
    "feature, target = dataiter.next()\n",
    "print(feature)\n",
    "print(target)\n"
   ]
  },
  {
   "cell_type": "code",
   "execution_count": null,
   "id": "5e170530",
   "metadata": {},
   "outputs": [],
   "source": [
    "plt.plot([1,2,3,4])"
   ]
  },
  {
   "cell_type": "markdown",
   "id": "032297a5",
   "metadata": {},
   "source": [
    "## Model"
   ]
  },
  {
   "cell_type": "markdown",
   "id": "65c9b62e",
   "metadata": {},
   "source": [
    "RestNet-152\n",
    "![ASL](./image/02.png)\n"
   ]
  },
  {
   "cell_type": "code",
   "execution_count": null,
   "id": "835d6178",
   "metadata": {},
   "outputs": [],
   "source": [
    "def getModel():\n",
    "    net = models.resnet152(pretrained=True)\n",
    "    \n",
    "    # if you want to train the whole network, comment this code\n",
    "    # freeze all the layers in the network\n",
    "    for param in net.parameters():\n",
    "        param.requires_grad = False\n",
    "        \n",
    "    num_ftrs = net.fc.in_features\n",
    "    # create last few layers\n",
    "    net.fc = nn.Sequential(\n",
    "        nn.Linear(num_ftrs, 256),\n",
    "        nn.ReLU(),\n",
    "        nn.Dropout(0.3),\n",
    "        nn.Linear(256, NUM_CLASSES),\n",
    "        nn.LogSoftmax(dim=1)\n",
    "    )\n",
    "    \n",
    "    # use gpu if any\n",
    "    net = net.cuda() if DEVICE else net\n",
    "    return net\n",
    "ASL_classification = getModel()"
   ]
  },
  {
   "cell_type": "markdown",
   "id": "d23727da",
   "metadata": {},
   "source": [
    "## Model Summary"
   ]
  },
  {
   "cell_type": "code",
   "execution_count": null,
   "id": "c7c7035c",
   "metadata": {},
   "outputs": [],
   "source": [
    "summary(cassava_classification, input_size = (1,28, 28))"
   ]
  },
  {
   "cell_type": "markdown",
   "id": "06c6233a",
   "metadata": {},
   "source": [
    "## Cyclical Learning Rates"
   ]
  },
  {
   "cell_type": "code",
   "execution_count": null,
   "id": "080d202d",
   "metadata": {},
   "outputs": [],
   "source": [
    "import math\n",
    "def cyclical_lr(stepsize, min_lr=3e-4, max_lr=3e-3):\n",
    "\n",
    "    # Scaler: we can adapt this if we do not want the triangular CLR\n",
    "    scaler = lambda x: 1.\n",
    "\n",
    "    # Lambda function to calculate the LR\n",
    "    lr_lambda = lambda it: min_lr + (max_lr - min_lr) * relative(it, stepsize)\n",
    "\n",
    "    # Additional function to see where on the cycle we are\n",
    "    def relative(it, stepsize):\n",
    "        cycle = math.floor(1 + it / (2 * stepsize))\n",
    "        x = abs(it / stepsize - 2 * cycle + 1)\n",
    "        return max(0, (1 - x)) * scaler(cycle)\n",
    "\n",
    "    return lr_lambda"
   ]
  },
  {
   "cell_type": "markdown",
   "id": "3648a608",
   "metadata": {},
   "source": [
    "## Loss Function, Optimizer, scheduler"
   ]
  },
  {
   "cell_type": "markdown",
   "id": "546d664f",
   "metadata": {},
   "source": [
    "#### torch.nn.CrossEntropyLoss\n",
    "![Loss](./image/03.png)"
   ]
  },
  {
   "cell_type": "markdown",
   "id": "c1ed2d28",
   "metadata": {},
   "source": [
    "#### torch.optim.Adam\n",
    "\n",
    "__1. 개요__\n",
    "\n",
    "model을 학습시키기 위해선 optimization라는 작업을 해줌. weight의 torch.backward()라는 함수로, gradient를 구해서 weight의 값을 변화시켜주는 역활을 함.\n",
    "\n",
    "__2. Adam__\n",
    "![Adam](./image/04.png)\n",
    "Adam method는 Adagrad + RMSProp의 장점을 섞어 놓은 것으로 __stepsize가 gradient의 rescaling에 영향을 받지 않음.__ 즉, gradient가 커져도 stepsize는 bound되어 있어서 어떠한 object function을 사용하더라도 안정적으로 optimization을 위한 하강이 가능하다.\n",
    "\n",
    "Adam pseudo-code\n",
    "![Adama_pesudo_code](./image/05.png)"
   ]
  },
  {
   "cell_type": "markdown",
   "id": "d5d7cdaa",
   "metadata": {},
   "source": [
    "* AdaGrad란?\n",
    "\n",
    "\n",
    "AgaGrad는 과거의 gradient 변화량을 참고한다. 예를 들어, 이미 많이 변화한 변수들은 optimum에 거의 도달했다 보고 stepsize를 작게하는 반면, 여태까지 많이 변화하지 않은 변수들은 optimum에 도달하지 않았다고 보고 stepsize를 크게 한다.\n",
    "![AdaGrad](./image/06.png)\n",
    "하지만 iteration이 계속될 수록 stepsize가 너무 작아질 수 있는 문제점이 존재한다."
   ]
  },
  {
   "cell_type": "markdown",
   "id": "baa371cd",
   "metadata": {},
   "source": [
    "* RMSProp란?\n",
    "\n",
    "\n",
    "AdaGrad의 stepsize와 관련된 문제점을 해결한 것이 RMSProp이다. RMSProp은 [exponential moving average](https://www.investopedia.com/ask/answers/122314/what-exponential-moving-average-ema-formula-and-how-ema-calculated.asp)를 사용하여 과거의 정보에 가중치를 작게, 최근 값에 민감하도록 가중치를 크게 부여하는 형태이다.\n",
    "![AdaGrad](./image/07.png)\n",
    "하지만 G 변수의 bias를 수정해주지 않으면 B2가 1에 가까워질수록 매우 큰 stepsize를 갖거나 발산하게 되는 문제점이 있다."
   ]
  },
  {
   "cell_type": "markdown",
   "id": "cc610bb0",
   "metadata": {},
   "source": [
    "#### learning rate scheduler \n",
    "learnig rate는 gradient의 보폭을 말한다. 처음부터 같은 learning rate를 사용할 수 있지만, 학습 과정에서 learning rate를 조정하는 scheduler을 사용할 수 있다. 처음에 큰 learning rate로 빠르게 optimize를 하고 최적값에 가까워질수록 learning rate를 줄이는 것이 더 효과적이다.\n",
    "![lr](./image/08.png)"
   ]
  },
  {
   "cell_type": "markdown",
   "id": "0b47f1ce",
   "metadata": {},
   "source": [
    "#### LambdaLR\n",
    "Lambda 표현식으로 작성한 함수를 통해 lr을 조정함. 초기 learning rate에 lambda함수에서 나온 값을 곱해줘서 lr을 계산.\n",
    "![lambdalr](./image/09.png)\n",
    "\n",
    "\n",
    "아래의 그래프처럼 learning rate가 조정된다.(개인적인 생각이지만 고정된 값으로 감소하기 때문에 효과가 좋을까? 의문임.. 다른 방법도 찾아봐서 채택해도 괜찮을듯)\n",
    "![lambdalr_graph](./image/10.png)"
   ]
  },
  {
   "cell_type": "code",
   "execution_count": null,
   "id": "6e9fd664",
   "metadata": {},
   "outputs": [],
   "source": [
    "criterion = nn.CrossEntropyLoss()\n",
    "model     = ASL_classification\n",
    "optimizer = torch.optim.Adam(model.parameters(), lr=1e-3)\n",
    "scheduler = torch.optim.lr_scheduler.LambdaLR(optimizer, lambda epoch: 0.95 ** epoch)"
   ]
  },
  {
   "cell_type": "markdown",
   "id": "4392bf6d",
   "metadata": {},
   "source": [
    "## Create DataLoad for Train, Test"
   ]
  },
  {
   "cell_type": "code",
   "execution_count": null,
   "id": "d5de2007",
   "metadata": {},
   "outputs": [],
   "source": [
    "TRAIN_BATCH_SIZE = 4\n",
    "TEST_BATCH_SIZE = 4\n",
    "#NUM_WORKERS = ???"
   ]
  },
  {
   "cell_type": "code",
   "execution_count": null,
   "id": "2d13ed89",
   "metadata": {},
   "outputs": [],
   "source": [
    "train_dataset = ASLDataset(dataset = train_dataset,\n",
    "                     transform = transform_data(\"train\"))\n",
    "\n",
    "train_loader = DataLoader(train_dataset,\n",
    "                        batch_size=TRAIN_BATCH_SIZE,\n",
    "                        #num_workers=NUM_WORKERS,\n",
    "                        shuffle=True)\n",
    "\n",
    "test_dataset = ASLDataset(dataset = train_dataset,\n",
    "                     transform = transform_data(\"train\"))\n",
    "\n",
    "test_loader = DataLoader(train_dataset,\n",
    "                         batch_size=TEST_BATCH_SIZE,\n",
    "                        #num_workers=NUM_WORKERS,\n",
    "                        shuffle=True)"
   ]
  },
  {
   "cell_type": "markdown",
   "id": "c6a8ef84",
   "metadata": {},
   "source": [
    "## Step for Train and Test"
   ]
  },
  {
   "cell_type": "code",
   "execution_count": null,
   "id": "6c9ea29b",
   "metadata": {},
   "outputs": [],
   "source": [
    "def train_model(model, dataloaders, criterion, optimizer, num_epochs=10, scheduler=scheduler):\n",
    "    start_time = time.time()\n",
    "    \n",
    "    val_acc_history = []\n",
    "    \n",
    "    best_model_wts = copy.deepcopy(model.state_dict())\n",
    "    best_acc = 0.0\n",
    "    \n",
    "    for epoch in range(num_epochs):\n",
    "        print(f'Epoch {epoch}/{num_epochs-1}')\n",
    "        print('-'*15)\n",
    "        \n",
    "        for phase in ['train', 'val']:\n",
    "            if phase == 'train':\n",
    "                model.train() \n",
    "            else:\n",
    "                model.eval() \n",
    "                \n",
    "            running_loss = 0.0\n",
    "            running_corrects = 0\n",
    "            fin_out = []\n",
    "            \n",
    "            for inputs, labels in dataloaders[phase]:\n",
    "                inputs = inputs.to(device)\n",
    "                labels = labels.to(device)\n",
    "                \n",
    "                # reset (or) zero the parameter gradients\n",
    "                optimizer.zero_grad()\n",
    "                \n",
    "                # training (or) validation process\n",
    "                with torch.set_grad_enabled(phase=='train'):\n",
    "                    outputs = model(inputs)\n",
    "                    loss = criterion(outputs, labels)\n",
    "                    \n",
    "                    _, preds = torch.max(outputs, 1)\n",
    "                    \n",
    "                    # 역전파(back propagation) \n",
    "                    if phase == 'train':\n",
    "                        loss.backward()\n",
    "                        optimizer.step()\n",
    "                        scheduler.step()\n",
    "                running_loss += loss.item() * inputs.size(0)\n",
    "                running_corrects += torch.sum(preds == labels.data)\n",
    "                \n",
    "            # accuarcy for the epoch\n",
    "            epoch_loss = running_loss / len(dataloaders[phase].dataset)\n",
    "            epoch_acc = running_corrects.double() / len(dataloaders[phase].dataset)\n",
    "            \n",
    "            print('{} Loss: {:.4f} Acc: {:.4f}'.format(phase, epoch_loss, epoch_acc))\n",
    "            # update the best weights\n",
    "            if phase == 'val' and epoch_acc > best_acc:\n",
    "                best_acc = epoch_acc\n",
    "                best_model_wts = copy.deepcopy(model.state_dict())\n",
    "            if phase == 'val':\n",
    "                val_acc_history.append(epoch_acc)\n",
    "                \n",
    "        print()\n",
    "    end_time = time.time() - start_time\n",
    "    \n",
    "    print('Training completes in {:.0f}m {:.0f}s'.format(end_time // 60, end_time % 60))\n",
    "    print('Best Val Acc: {:.4f}'.format(best_acc))\n",
    "    \n",
    "    model.load_state_dict(best_model_wts)\n",
    "    return model, val_acc_history\n",
    "\n",
    "            "
   ]
  },
  {
   "cell_type": "markdown",
   "id": "8e133710",
   "metadata": {},
   "source": [
    "## Model Save and Predict"
   ]
  },
  {
   "cell_type": "code",
   "execution_count": null,
   "id": "6c3591fb",
   "metadata": {},
   "outputs": [],
   "source": [
    "torch.save(model, 'best_model.h5')\n",
    "torch.save(model.state_dict(), 'best_model_weights')"
   ]
  },
  {
   "cell_type": "code",
   "execution_count": null,
   "id": "57128bb6",
   "metadata": {},
   "outputs": [],
   "source": [
    "unfreeze = True \n",
    "for param in model.parameters():\n",
    "    param.requires_grad = unfreeze"
   ]
  },
  {
   "cell_type": "code",
   "execution_count": null,
   "id": "e6782c8d",
   "metadata": {},
   "outputs": [],
   "source": [
    "total_params = sum(p.numel() for p in model.parameters())\n",
    "print(f'{total_params:,} total parameters')\n",
    "trainable_params = sum(p.numel() for p in model.parameters() if p.requires_grad)\n",
    "print(f'{trainable_params:,} training parameters')"
   ]
  },
  {
   "cell_type": "code",
   "execution_count": null,
   "id": "ef229aaf",
   "metadata": {},
   "outputs": [],
   "source": [
    "def predict(model, dataloader, device):\n",
    "    model.eval()\n",
    "    fin_out = []\n",
    "    \n",
    "    with torch.no_grad():\n",
    "        images = images.to(device)\n",
    "        targets = targets.to(device)\n",
    "            \n",
    "        outputs = model(images)\n",
    "            \n",
    "        fin_out.append(F.softmax(outputs, dim=1).detach().cpu().numpy())        \n",
    "    return np.concatenate(fin_out)\n"
   ]
  }
 ],
 "metadata": {
  "kernelspec": {
   "display_name": "Python 3",
   "language": "python",
   "name": "python3"
  },
  "language_info": {
   "codemirror_mode": {
    "name": "ipython",
    "version": 3
   },
   "file_extension": ".py",
   "mimetype": "text/x-python",
   "name": "python",
   "nbconvert_exporter": "python",
   "pygments_lexer": "ipython3",
   "version": "3.8.8"
  }
 },
 "nbformat": 4,
 "nbformat_minor": 5
}
